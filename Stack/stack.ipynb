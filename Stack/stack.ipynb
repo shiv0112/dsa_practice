{
 "cells": [
  {
   "cell_type": "markdown",
   "metadata": {},
   "source": [
    "## Stack Through Linked List"
   ]
  },
  {
   "cell_type": "code",
   "execution_count": 1,
   "metadata": {},
   "outputs": [],
   "source": [
    "class Node:\n",
    "    def __init__(self, value):\n",
    "        self.data = value\n",
    "        self.next = None"
   ]
  },
  {
   "cell_type": "code",
   "execution_count": 2,
   "metadata": {},
   "outputs": [],
   "source": [
    "class Stack:\n",
    "    def __init__(self):\n",
    "        self.top = None\n",
    "    \n",
    "    def isempty(self):\n",
    "        return self.top == None  \n",
    "    \n",
    "    def peek(self):\n",
    "        if not self.isempty():\n",
    "            temp = self.top\n",
    "            return(temp.data)\n",
    "        return \"Stack Empty\"\n",
    "    \n",
    "    def push(self, value):\n",
    "        new_node = Node(value)\n",
    "        new_node.next = self.top\n",
    "        self.top = new_node\n",
    "\n",
    "    def pop(self):\n",
    "        if not self.isempty():\n",
    "            data = self.top.data\n",
    "            self.top = self.top.next\n",
    "            return data\n",
    "        return \"No items to remove\"\n",
    "\n",
    "    def traverse(self):\n",
    "        temp = self.top\n",
    "\n",
    "        if self.isempty():\n",
    "            return \"Empty Stack\"\n",
    "\n",
    "        while temp != None:\n",
    "            print(temp.data)\n",
    "            temp = temp.next\n",
    "    \n",
    "    def reverse(self):\n",
    "\n",
    "        if self.isempty():\n",
    "            return \"Empty Stack\"\n",
    "        \n",
    "        prev = None\n",
    "        curr = self.top\n",
    "\n",
    "        while curr != None:\n",
    "            next_node = curr.next\n",
    "            curr.next = prev\n",
    "            prev = curr\n",
    "            curr = next_node\n",
    "        self.top = prev\n",
    "        self.traverse()"
   ]
  },
  {
   "cell_type": "code",
   "execution_count": 3,
   "metadata": {},
   "outputs": [],
   "source": [
    "st = Stack()"
   ]
  },
  {
   "cell_type": "code",
   "execution_count": 4,
   "metadata": {},
   "outputs": [
    {
     "data": {
      "text/plain": [
       "True"
      ]
     },
     "execution_count": 4,
     "metadata": {},
     "output_type": "execute_result"
    }
   ],
   "source": [
    "st.isempty()"
   ]
  },
  {
   "cell_type": "code",
   "execution_count": 5,
   "metadata": {},
   "outputs": [
    {
     "data": {
      "text/plain": [
       "'Stack Empty'"
      ]
     },
     "execution_count": 5,
     "metadata": {},
     "output_type": "execute_result"
    }
   ],
   "source": [
    "st.peek()"
   ]
  },
  {
   "cell_type": "code",
   "execution_count": 6,
   "metadata": {},
   "outputs": [
    {
     "data": {
      "text/plain": [
       "'Empty Stack'"
      ]
     },
     "execution_count": 6,
     "metadata": {},
     "output_type": "execute_result"
    }
   ],
   "source": [
    "st.traverse()"
   ]
  },
  {
   "cell_type": "code",
   "execution_count": 7,
   "metadata": {},
   "outputs": [
    {
     "data": {
      "text/plain": [
       "'No items to remove'"
      ]
     },
     "execution_count": 7,
     "metadata": {},
     "output_type": "execute_result"
    }
   ],
   "source": [
    "st.pop()"
   ]
  },
  {
   "cell_type": "code",
   "execution_count": 8,
   "metadata": {},
   "outputs": [
    {
     "data": {
      "text/plain": [
       "'Empty Stack'"
      ]
     },
     "execution_count": 8,
     "metadata": {},
     "output_type": "execute_result"
    }
   ],
   "source": [
    "st.reverse()"
   ]
  },
  {
   "cell_type": "code",
   "execution_count": 9,
   "metadata": {},
   "outputs": [
    {
     "data": {
      "text/plain": [
       "False"
      ]
     },
     "execution_count": 9,
     "metadata": {},
     "output_type": "execute_result"
    }
   ],
   "source": [
    "st.push(1)\n",
    "st.push(2)\n",
    "st.push(3)\n",
    "st.push(4)\n",
    "st.isempty()"
   ]
  },
  {
   "cell_type": "code",
   "execution_count": 10,
   "metadata": {},
   "outputs": [
    {
     "name": "stdout",
     "output_type": "stream",
     "text": [
      "4\n",
      "3\n",
      "2\n",
      "1\n"
     ]
    }
   ],
   "source": [
    "st.traverse()"
   ]
  },
  {
   "cell_type": "code",
   "execution_count": 11,
   "metadata": {},
   "outputs": [
    {
     "data": {
      "text/plain": [
       "4"
      ]
     },
     "execution_count": 11,
     "metadata": {},
     "output_type": "execute_result"
    }
   ],
   "source": [
    "st.peek()"
   ]
  },
  {
   "cell_type": "code",
   "execution_count": 12,
   "metadata": {},
   "outputs": [
    {
     "name": "stdout",
     "output_type": "stream",
     "text": [
      "1\n",
      "2\n",
      "3\n",
      "4\n"
     ]
    }
   ],
   "source": [
    "st.reverse()"
   ]
  },
  {
   "cell_type": "code",
   "execution_count": 13,
   "metadata": {},
   "outputs": [
    {
     "data": {
      "text/plain": [
       "1"
      ]
     },
     "execution_count": 13,
     "metadata": {},
     "output_type": "execute_result"
    }
   ],
   "source": [
    "st.peek()"
   ]
  },
  {
   "cell_type": "code",
   "execution_count": 14,
   "metadata": {},
   "outputs": [
    {
     "name": "stdout",
     "output_type": "stream",
     "text": [
      "1\n",
      "2\n",
      "3\n",
      "4\n"
     ]
    }
   ],
   "source": [
    "st.traverse()"
   ]
  },
  {
   "cell_type": "markdown",
   "metadata": {},
   "source": [
    "#### String Reversal through stack\n",
    "\"\"\"\n",
    "Hello --> olleH\n",
    "\"\"\""
   ]
  },
  {
   "cell_type": "code",
   "execution_count": 15,
   "metadata": {},
   "outputs": [],
   "source": [
    "str1 = \"Hello\"\n",
    "ans = \"\"\n",
    "\n",
    "st = Stack()\n",
    "for i in str1:\n",
    "    st.push(i)"
   ]
  },
  {
   "cell_type": "code",
   "execution_count": 16,
   "metadata": {},
   "outputs": [
    {
     "name": "stdout",
     "output_type": "stream",
     "text": [
      "o\n",
      "l\n",
      "l\n",
      "e\n",
      "H\n"
     ]
    }
   ],
   "source": [
    "st.traverse()"
   ]
  },
  {
   "cell_type": "code",
   "execution_count": 17,
   "metadata": {},
   "outputs": [],
   "source": [
    "while(not st.isempty()):\n",
    "    ans += st.pop()"
   ]
  },
  {
   "cell_type": "code",
   "execution_count": 18,
   "metadata": {},
   "outputs": [
    {
     "data": {
      "text/plain": [
       "'olleH'"
      ]
     },
     "execution_count": 18,
     "metadata": {},
     "output_type": "execute_result"
    }
   ],
   "source": [
    "ans"
   ]
  },
  {
   "cell_type": "markdown",
   "metadata": {},
   "source": [
    "## Text Editor"
   ]
  },
  {
   "cell_type": "markdown",
   "metadata": {},
   "source": [
    "#### Hello     \n",
    "#### ururu      u - undo , r - redo"
   ]
  },
  {
   "cell_type": "code",
   "execution_count": 32,
   "metadata": {},
   "outputs": [],
   "source": [
    "def text_editor(word, cmd):\n",
    "    st1 = Stack()\n",
    "    for i in word:\n",
    "        st1.push(i)\n",
    "    st1.traverse()\n",
    "    st2 = Stack()\n",
    "    for i in cmd:\n",
    "        if i == 'u':\n",
    "            st2.push(st1.peek())\n",
    "            st1.pop()\n",
    "        elif i == 'r':\n",
    "            st1.push(st2.peek())\n",
    "            st2.pop()\n",
    "        else:\n",
    "            print(\"Invalid command literal\", i)\n",
    "    print()\n",
    "    st1.traverse()"
   ]
  },
  {
   "cell_type": "code",
   "execution_count": 38,
   "metadata": {},
   "outputs": [
    {
     "name": "stdout",
     "output_type": "stream",
     "text": [
      "o\n",
      "l\n",
      "l\n",
      "e\n",
      "H\n",
      "\n",
      "o\n",
      "l\n",
      "l\n",
      "e\n",
      "H\n"
     ]
    }
   ],
   "source": [
    "text_editor(\"Hello\", \"uuuuurrrrr\")"
   ]
  },
  {
   "cell_type": "markdown",
   "metadata": {},
   "source": [
    "## Celebrity Problem\n"
   ]
  },
  {
   "cell_type": "markdown",
   "metadata": {},
   "source": [
    "->  A   B   C   D <br>\n",
    "A [ 0, 0, 1, 1 ] <br>\n",
    "B [ 0, 0, 1, 1 ] <br>\n",
    "C [ 1, 0, 0, 1 ] <br>\n",
    "D [ 1, 0, 0, 0 ] <br>"
   ]
  },
  {
   "cell_type": "markdown",
   "metadata": {},
   "source": [
    "n x n "
   ]
  },
  {
   "cell_type": "code",
   "execution_count": 112,
   "metadata": {},
   "outputs": [],
   "source": [
    "def celeb(arr):\n",
    "    st = Stack()\n",
    "    for i in range(len(arr)):\n",
    "        st.push(i)\n",
    "\n",
    "    while True:\n",
    "        a = st.pop()\n",
    "        if not st.isempty():\n",
    "            b = st.pop()\n",
    "            if arr[a][b] == 0:\n",
    "                st.push(a)\n",
    "            else:\n",
    "                st.push(b)  \n",
    "            print(a,b)  \n",
    "        else:\n",
    "            break\n",
    "    if type(a) != int:\n",
    "        print(a,\"left but not a celeb\")\n",
    "        return None\n",
    "    else:\n",
    "        for i in range(len(arr)):\n",
    "            if i != a:\n",
    "                if arr[i][a] == 0 or arr[a][i] == 1:\n",
    "                    print(\"No one a celebrity\")\n",
    "                    return\n",
    "        print(\"Celebrity is\", a)\n",
    "        return"
   ]
  },
  {
   "cell_type": "code",
   "execution_count": 113,
   "metadata": {},
   "outputs": [],
   "source": [
    "arr = [\n",
    "    [0,0,1,1],\n",
    "    [0,0,1,1],\n",
    "    [0,0,0,0],\n",
    "    [0,1,1,0]]"
   ]
  },
  {
   "cell_type": "code",
   "execution_count": 114,
   "metadata": {},
   "outputs": [
    {
     "name": "stdout",
     "output_type": "stream",
     "text": [
      "3 2\n",
      "2 1\n",
      "2 0\n",
      "Celebrity is 2\n"
     ]
    }
   ],
   "source": [
    "celeb(arr)"
   ]
  },
  {
   "cell_type": "markdown",
   "metadata": {},
   "source": [
    "## Balanced Paranthesis"
   ]
  },
  {
   "cell_type": "markdown",
   "metadata": {},
   "source": [
    "#### Input - [{(a+b)+(c+d)}]\n",
    "#### Output - true or false depending upon all brackets are balanced "
   ]
  },
  {
   "cell_type": "code",
   "execution_count": 142,
   "metadata": {},
   "outputs": [
    {
     "data": {
      "text/plain": [
       "'[{(a+b)+(c+d)}'"
      ]
     },
     "execution_count": 142,
     "metadata": {},
     "output_type": "execute_result"
    }
   ],
   "source": [
    "k = \"[{(a+b)+(c+d)}\"\n",
    "k"
   ]
  },
  {
   "cell_type": "code",
   "execution_count": 146,
   "metadata": {},
   "outputs": [
    {
     "name": "stdout",
     "output_type": "stream",
     "text": [
      "Flase\n"
     ]
    }
   ],
   "source": [
    "dic = {']':'[', '}':'{', ')':'('}\n",
    "b = ['[','{','(']\n",
    "rever_b = [']', '}', ')']\n",
    "\n",
    "st = Stack()\n",
    "f = 0\n",
    "for ch in k:\n",
    "    if ch in b:\n",
    "        st.push(ch)\n",
    "    elif ch in rever_b:\n",
    "        if st.peek() == dic[ch]:\n",
    "            st.pop()\n",
    "        else:\n",
    "            f = 1\n",
    "            print(\"False\")\n",
    "            break\n",
    "    else:\n",
    "        continue\n",
    "if f == 0 and st.isempty():\n",
    "    print(\"True\")\n",
    "else:\n",
    "    print(\"Flase\")"
   ]
  },
  {
   "cell_type": "markdown",
   "metadata": {},
   "source": [
    "## Stack implementation using Python List"
   ]
  },
  {
   "cell_type": "code",
   "execution_count": 239,
   "metadata": {},
   "outputs": [],
   "source": [
    "l = [1,2,3,4,5]"
   ]
  },
  {
   "cell_type": "code",
   "execution_count": 240,
   "metadata": {},
   "outputs": [],
   "source": [
    "l.append(6)"
   ]
  },
  {
   "cell_type": "code",
   "execution_count": 241,
   "metadata": {},
   "outputs": [
    {
     "data": {
      "text/plain": [
       "6"
      ]
     },
     "execution_count": 241,
     "metadata": {},
     "output_type": "execute_result"
    }
   ],
   "source": [
    "l.pop()"
   ]
  },
  {
   "cell_type": "code",
   "execution_count": 242,
   "metadata": {},
   "outputs": [
    {
     "data": {
      "text/plain": [
       "[1, 2, 3, 4, 5]"
      ]
     },
     "execution_count": 242,
     "metadata": {},
     "output_type": "execute_result"
    }
   ],
   "source": [
    "l"
   ]
  },
  {
   "cell_type": "code",
   "execution_count": 243,
   "metadata": {},
   "outputs": [
    {
     "data": {
      "text/plain": [
       "5"
      ]
     },
     "execution_count": 243,
     "metadata": {},
     "output_type": "execute_result"
    }
   ],
   "source": [
    "l[-1]"
   ]
  },
  {
   "cell_type": "code",
   "execution_count": 267,
   "metadata": {},
   "outputs": [],
   "source": [
    "class Stack:\n",
    "    def __init__(self, size):\n",
    "        self.size = size\n",
    "        self.__stack = [None] * self.size\n",
    "        self.top = -1\n",
    "    \n",
    "    def push(self, value):\n",
    "        if self.top == self.size - 1:\n",
    "            print(\"Stack Overflow\")\n",
    "        else:\n",
    "            self.top+=1\n",
    "            self.__stack[self.top] = value\n",
    "    \n",
    "    def pop(self):\n",
    "        if self.top == -1:\n",
    "            print(\"Stack is empty\")\n",
    "        else:\n",
    "            data = self.__stack[self.top]\n",
    "            self.top-=1\n",
    "            print(data)\n",
    "    \n",
    "    def traverse(self):\n",
    "        for i in range(self.top + 1):\n",
    "            print(self.__stack[i], end = ' ')"
   ]
  },
  {
   "cell_type": "code",
   "execution_count": 268,
   "metadata": {},
   "outputs": [],
   "source": [
    "s = Stack(3)\n"
   ]
  },
  {
   "cell_type": "code",
   "execution_count": 269,
   "metadata": {},
   "outputs": [],
   "source": [
    "s.traverse()"
   ]
  },
  {
   "cell_type": "code",
   "execution_count": 270,
   "metadata": {},
   "outputs": [
    {
     "name": "stdout",
     "output_type": "stream",
     "text": [
      "Stack is empty\n"
     ]
    }
   ],
   "source": [
    "s.pop()"
   ]
  },
  {
   "cell_type": "code",
   "execution_count": 271,
   "metadata": {},
   "outputs": [
    {
     "name": "stdout",
     "output_type": "stream",
     "text": [
      "4 "
     ]
    }
   ],
   "source": [
    "s.push(4)\n",
    "s.traverse()"
   ]
  },
  {
   "cell_type": "code",
   "execution_count": 272,
   "metadata": {},
   "outputs": [
    {
     "name": "stdout",
     "output_type": "stream",
     "text": [
      "4 5 "
     ]
    }
   ],
   "source": [
    "s.push(5)\n",
    "s.traverse()"
   ]
  },
  {
   "cell_type": "code",
   "execution_count": 273,
   "metadata": {},
   "outputs": [
    {
     "name": "stdout",
     "output_type": "stream",
     "text": [
      "4 5 6 "
     ]
    }
   ],
   "source": [
    "s.push(6)\n",
    "s.traverse()"
   ]
  },
  {
   "cell_type": "code",
   "execution_count": 274,
   "metadata": {},
   "outputs": [
    {
     "name": "stdout",
     "output_type": "stream",
     "text": [
      "Stack Overflow\n"
     ]
    }
   ],
   "source": [
    "s.push(5)"
   ]
  },
  {
   "cell_type": "code",
   "execution_count": 275,
   "metadata": {},
   "outputs": [
    {
     "name": "stdout",
     "output_type": "stream",
     "text": [
      "6\n"
     ]
    }
   ],
   "source": [
    "s.pop()"
   ]
  },
  {
   "cell_type": "code",
   "execution_count": 276,
   "metadata": {},
   "outputs": [
    {
     "ename": "AttributeError",
     "evalue": "'Stack' object has no attribute 'stack'",
     "output_type": "error",
     "traceback": [
      "\u001b[1;31m---------------------------------------------------------------------------\u001b[0m",
      "\u001b[1;31mAttributeError\u001b[0m                            Traceback (most recent call last)",
      "\u001b[1;32m~\\AppData\\Local\\Temp\\ipykernel_11884\\740740930.py\u001b[0m in \u001b[0;36m<module>\u001b[1;34m\u001b[0m\n\u001b[1;32m----> 1\u001b[1;33m \u001b[0ms\u001b[0m\u001b[1;33m.\u001b[0m\u001b[0mstack\u001b[0m\u001b[1;33m\u001b[0m\u001b[1;33m\u001b[0m\u001b[0m\n\u001b[0m",
      "\u001b[1;31mAttributeError\u001b[0m: 'Stack' object has no attribute 'stack'"
     ]
    }
   ],
   "source": [
    "s.stack"
   ]
  },
  {
   "cell_type": "code",
   "execution_count": 278,
   "metadata": {},
   "outputs": [
    {
     "name": "stdout",
     "output_type": "stream",
     "text": [
      "4 5 "
     ]
    }
   ],
   "source": [
    "s.traverse()"
   ]
  },
  {
   "cell_type": "code",
   "execution_count": null,
   "metadata": {},
   "outputs": [],
   "source": []
  }
 ],
 "metadata": {
  "kernelspec": {
   "display_name": "base",
   "language": "python",
   "name": "python3"
  },
  "language_info": {
   "codemirror_mode": {
    "name": "ipython",
    "version": 3
   },
   "file_extension": ".py",
   "mimetype": "text/x-python",
   "name": "python",
   "nbconvert_exporter": "python",
   "pygments_lexer": "ipython3",
   "version": "3.9.13"
  }
 },
 "nbformat": 4,
 "nbformat_minor": 2
}
