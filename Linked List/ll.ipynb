{
 "cells": [
  {
   "cell_type": "code",
   "execution_count": 252,
   "metadata": {},
   "outputs": [],
   "source": [
    "class Node:\n",
    "    def __init__(self, value):\n",
    "        self.data = value\n",
    "        self.next = None"
   ]
  },
  {
   "cell_type": "code",
   "execution_count": 253,
   "metadata": {},
   "outputs": [
    {
     "data": {
      "text/plain": [
       "<__main__.Node at 0x260028ab820>"
      ]
     },
     "execution_count": 253,
     "metadata": {},
     "output_type": "execute_result"
    }
   ],
   "source": [
    "a = Node(1)\n",
    "a"
   ]
  },
  {
   "cell_type": "code",
   "execution_count": 254,
   "metadata": {},
   "outputs": [
    {
     "data": {
      "text/plain": [
       "<__main__.Node at 0x2600277e310>"
      ]
     },
     "execution_count": 254,
     "metadata": {},
     "output_type": "execute_result"
    }
   ],
   "source": [
    "b = Node(2)\n",
    "b"
   ]
  },
  {
   "cell_type": "code",
   "execution_count": 255,
   "metadata": {},
   "outputs": [
    {
     "data": {
      "text/plain": [
       "<__main__.Node at 0x2600279ad60>"
      ]
     },
     "execution_count": 255,
     "metadata": {},
     "output_type": "execute_result"
    }
   ],
   "source": [
    "c = Node(3)\n",
    "c"
   ]
  },
  {
   "cell_type": "code",
   "execution_count": 256,
   "metadata": {},
   "outputs": [
    {
     "name": "stdout",
     "output_type": "stream",
     "text": [
      "2611382761504\n",
      "2611381527312\n",
      "2611381644640\n"
     ]
    }
   ],
   "source": [
    "print(id(a))\n",
    "print(id(b))\n",
    "print(id(c))"
   ]
  },
  {
   "cell_type": "code",
   "execution_count": 257,
   "metadata": {},
   "outputs": [],
   "source": [
    "a.next = b\n",
    "b.next = c"
   ]
  },
  {
   "cell_type": "code",
   "execution_count": 258,
   "metadata": {},
   "outputs": [
    {
     "name": "stdout",
     "output_type": "stream",
     "text": [
      "<__main__.Node object at 0x000002600277E310>\n",
      "<__main__.Node object at 0x000002600279AD60>\n",
      "None\n"
     ]
    }
   ],
   "source": [
    "print(a.next)\n",
    "print(b.next)\n",
    "print(c.next)"
   ]
  },
  {
   "cell_type": "code",
   "execution_count": 260,
   "metadata": {},
   "outputs": [
    {
     "name": "stdout",
     "output_type": "stream",
     "text": [
      "2611381527312\n",
      "2611381644640\n"
     ]
    }
   ],
   "source": [
    "print(int(0x000002600277E310))\n",
    "print(int(0x000002600279AD60))"
   ]
  },
  {
   "cell_type": "code",
   "execution_count": 261,
   "metadata": {},
   "outputs": [],
   "source": [
    "class Node:\n",
    "    def __init__(self, value):\n",
    "        self.data = value\n",
    "        self.next = None"
   ]
  },
  {
   "cell_type": "code",
   "execution_count": 262,
   "metadata": {},
   "outputs": [],
   "source": [
    "class LinkedList:\n",
    "    def __init__(self):\n",
    "        self.head = None\n",
    "        self.n = 0\n",
    "    def __len__(self):\n",
    "        return self.n    \n",
    "    def __str__(self):\n",
    "        curr = self.head\n",
    "        result = \"\"\n",
    "        while curr != None:\n",
    "            result = result + str(curr.data) + \" --> \"\n",
    "            curr = curr.next\n",
    "        return result[:-5]\n",
    "    \n",
    "    def insert_head(self, value):\n",
    "        new_node = Node(value)\n",
    "        print(new_node)\n",
    "        print(self.head)\n",
    "        new_node.next = self.head\n",
    "        self.head = new_node\n",
    "        self.n += 1\n",
    "        print(self)\n",
    "\n",
    "    def append(self, value):\n",
    "        new_node = Node(value)\n",
    "        if self.head == None:\n",
    "            self.head = new_node\n",
    "            self.n += 1\n",
    "            return\n",
    "        curr = self.head\n",
    "        while curr.next != None:\n",
    "            curr = curr.next \n",
    "        curr.next = new_node\n",
    "        self.n += 1\n",
    "        print(self)\n",
    "\n",
    "    def insert_after(self, after, value):\n",
    "        new_node = Node(value)\n",
    "        curr = self.head\n",
    "        while curr != None:\n",
    "            if curr.data == after:\n",
    "                break\n",
    "            curr = curr.next\n",
    "        if curr != None:\n",
    "            new_node.next = curr.next\n",
    "            curr.next = new_node\n",
    "            self.n += 1\n",
    "            print(self)\n",
    "        else:\n",
    "            return \"Item not found\"\n",
    "    \n",
    "    def clear(self):\n",
    "        self.head = 0\n",
    "        self.n = 0\n",
    "\n",
    "    def del_head(self):\n",
    "        if self.head == None:\n",
    "            return 'Empty Linked List'\n",
    "        self.head = self.head.next\n",
    "        self.n -= 1\n",
    "        print(self)\n",
    "    \n",
    "    def pop(self):\n",
    "        \n",
    "        curr = self.head\n",
    "\n",
    "        if curr == None:\n",
    "            return 'Empty Linked List'\n",
    "\n",
    "        if curr.next == None:\n",
    "            return self.del_head()\n",
    "        \n",
    "        while curr.next.next != None:\n",
    "            curr = curr.next\n",
    "\n",
    "        curr.next = None\n",
    "        self.n -= 1\n",
    "        print(self)\n",
    "\n",
    "    def remove(self, value):\n",
    "        curr = self.head\n",
    "        \n",
    "        if curr.data == value:\n",
    "            return self.del_head()\n",
    "        \n",
    "        while curr.next != None:\n",
    "            if curr.next.data == value:\n",
    "                break\n",
    "            curr = curr.next\n",
    "        \n",
    "        if curr.next == None:\n",
    "            return 'Not Found'\n",
    "        else:\n",
    "            curr.next = curr.next.next\n",
    "            self.n-=1\n",
    "            print(self)\n",
    "\n",
    "    def search(self, item):\n",
    "        curr = self.head\n",
    "        pos = 0\n",
    "        while curr != None:\n",
    "            if curr.data == item:\n",
    "                return pos\n",
    "            curr = curr.next\n",
    "            pos += 1\n",
    "        return \"Not Found\"\n",
    "    \n",
    "    def __getitem__(self, pos):\n",
    "        curr = self.head\n",
    "        index = 0\n",
    "        while curr != None:\n",
    "            if pos == index:\n",
    "                return curr.data\n",
    "            curr = curr.next\n",
    "            index += 1\n",
    "        return \"Index not present\"\n",
    "        \n",
    "\n",
    "        \n"
   ]
  },
  {
   "cell_type": "code",
   "execution_count": 263,
   "metadata": {},
   "outputs": [
    {
     "name": "stdout",
     "output_type": "stream",
     "text": [
      "\n"
     ]
    }
   ],
   "source": [
    "L = LinkedList()\n",
    "print(L)"
   ]
  },
  {
   "cell_type": "code",
   "execution_count": 264,
   "metadata": {},
   "outputs": [
    {
     "data": {
      "text/plain": [
       "0"
      ]
     },
     "execution_count": 264,
     "metadata": {},
     "output_type": "execute_result"
    }
   ],
   "source": [
    "len(L)"
   ]
  },
  {
   "cell_type": "code",
   "execution_count": 265,
   "metadata": {},
   "outputs": [
    {
     "name": "stdout",
     "output_type": "stream",
     "text": [
      "<__main__.Node object at 0x0000026003A87790>\n",
      "None\n",
      "4\n",
      "<__main__.Node object at 0x0000026003A87910>\n",
      "<__main__.Node object at 0x0000026003A87790>\n",
      "3 --> 4\n",
      "<__main__.Node object at 0x00000260027DA7F0>\n",
      "<__main__.Node object at 0x0000026003A87910>\n",
      "2 --> 3 --> 4\n",
      "<__main__.Node object at 0x0000026003A877C0>\n",
      "<__main__.Node object at 0x00000260027DA7F0>\n",
      "1 --> 2 --> 3 --> 4\n"
     ]
    }
   ],
   "source": [
    "L.insert_head(4)\n",
    "L.insert_head(3)\n",
    "L.insert_head(2)\n",
    "L.insert_head(1)"
   ]
  },
  {
   "cell_type": "code",
   "execution_count": 241,
   "metadata": {},
   "outputs": [
    {
     "data": {
      "text/plain": [
       "4"
      ]
     },
     "execution_count": 241,
     "metadata": {},
     "output_type": "execute_result"
    }
   ],
   "source": [
    "len(L)"
   ]
  },
  {
   "cell_type": "code",
   "execution_count": 242,
   "metadata": {},
   "outputs": [
    {
     "name": "stdout",
     "output_type": "stream",
     "text": [
      "1 --> 2 --> 3 --> 4 --> 5\n"
     ]
    }
   ],
   "source": [
    "L.append(5)"
   ]
  },
  {
   "cell_type": "code",
   "execution_count": 243,
   "metadata": {},
   "outputs": [
    {
     "name": "stdout",
     "output_type": "stream",
     "text": [
      "1 --> 2 --> 3 --> 300 --> 4 --> 5\n"
     ]
    }
   ],
   "source": [
    "L.insert_after(3, 300)"
   ]
  },
  {
   "cell_type": "code",
   "execution_count": 244,
   "metadata": {},
   "outputs": [
    {
     "data": {
      "text/plain": [
       "'Item not found'"
      ]
     },
     "execution_count": 244,
     "metadata": {},
     "output_type": "execute_result"
    }
   ],
   "source": [
    "L.insert_after(7, 700)"
   ]
  },
  {
   "cell_type": "code",
   "execution_count": 245,
   "metadata": {},
   "outputs": [
    {
     "name": "stdout",
     "output_type": "stream",
     "text": [
      "2 --> 3 --> 300 --> 4 --> 5\n"
     ]
    }
   ],
   "source": [
    "L.del_head()"
   ]
  },
  {
   "cell_type": "code",
   "execution_count": 246,
   "metadata": {},
   "outputs": [
    {
     "name": "stdout",
     "output_type": "stream",
     "text": [
      "2 --> 3 --> 300 --> 4\n"
     ]
    }
   ],
   "source": [
    "L.pop()"
   ]
  },
  {
   "cell_type": "code",
   "execution_count": 247,
   "metadata": {},
   "outputs": [
    {
     "name": "stdout",
     "output_type": "stream",
     "text": [
      "2 --> 300 --> 4\n"
     ]
    }
   ],
   "source": [
    "L.remove(3)"
   ]
  },
  {
   "cell_type": "code",
   "execution_count": 251,
   "metadata": {},
   "outputs": [
    {
     "data": {
      "text/plain": [
       "4"
      ]
     },
     "execution_count": 251,
     "metadata": {},
     "output_type": "execute_result"
    }
   ],
   "source": [
    "L[2]"
   ]
  },
  {
   "cell_type": "code",
   "execution_count": null,
   "metadata": {},
   "outputs": [],
   "source": []
  },
  {
   "cell_type": "code",
   "execution_count": null,
   "metadata": {},
   "outputs": [],
   "source": []
  },
  {
   "cell_type": "code",
   "execution_count": null,
   "metadata": {},
   "outputs": [],
   "source": []
  }
 ],
 "metadata": {
  "kernelspec": {
   "display_name": "base",
   "language": "python",
   "name": "python3"
  },
  "language_info": {
   "codemirror_mode": {
    "name": "ipython",
    "version": 3
   },
   "file_extension": ".py",
   "mimetype": "text/x-python",
   "name": "python",
   "nbconvert_exporter": "python",
   "pygments_lexer": "ipython3",
   "version": "3.9.13"
  }
 },
 "nbformat": 4,
 "nbformat_minor": 2
}
